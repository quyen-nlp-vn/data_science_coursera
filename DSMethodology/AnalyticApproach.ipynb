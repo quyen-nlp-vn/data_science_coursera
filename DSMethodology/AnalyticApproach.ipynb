{
 "cells": [
  {
   "cell_type": "markdown",
   "metadata": {
    "button": false,
    "new_sheet": false,
    "run_control": {
     "read_only": false
    }
   },
   "source": [
    "# Analytic Approach <a id=\"2\"></a>\n"
   ]
  },
  {
   "cell_type": "markdown",
   "metadata": {
    "button": false,
    "new_sheet": false,
    "run_control": {
     "read_only": false
    }
   },
   "source": [
    "<img src=\"https://cf-courses-data.s3.us.cloud-object-storage.appdomain.cloud/IBMDeveloperSkillsNetwork-DS0103EN-SkillsNetwork/labs/Module%201/images/lab1_fig4_flowchart_analytic_approach.png\" width=\"500\">\n"
   ]
  },
  {
   "cell_type": "markdown",
   "metadata": {
    "button": false,
    "new_sheet": false,
    "run_control": {
     "read_only": false
    }
   },
   "source": [
    "Distinguish a Email is spam or importance, that is classification problem.<br/>\n",
    "\n",
    "Simple approach is use machine learning algorithm: Navie Bayes"
   ]
  },
  {
   "cell_type": "markdown",
   "metadata": {
    "button": false,
    "new_sheet": false,
    "run_control": {
     "read_only": false
    }
   },
   "source": [
    "#### Let's explore Navie Bayes, and see if it is the right technique to automate the identifying spam email based on content\n"
   ]
  },
  {
   "cell_type": "markdown",
   "metadata": {
    "button": false,
    "new_sheet": false,
    "run_control": {
     "read_only": false
    }
   },
   "source": [
    "\n",
    "Naive Bayes spam filtering is a baseline technique for dealing with spam that can tailor itself to the email needs of individual users and give low false positive spam detection rates that are generally acceptable to users. It is one of the oldest ways of doing spam filtering, with roots in the 1990s.\n"
   ]
  },
  {
   "attachments": {},
   "cell_type": "markdown",
   "metadata": {
    "button": false,
    "new_sheet": false,
    "run_control": {
     "read_only": false
    }
   },
   "source": [
    "\n",
    "\n",
    "![](./assets/images/spam_email_1.png)\n"
   ]
  },
  {
   "cell_type": "markdown",
   "metadata": {
    "button": false,
    "new_sheet": false,
    "run_control": {
     "read_only": false
    }
   },
   "source": [
    "# How it works?\n"
   ]
  },
  {
   "cell_type": "markdown",
   "metadata": {
    "button": false,
    "new_sheet": false,
    "run_control": {
     "read_only": false
    }
   },
   "source": [
    "*   It is an algorithm that learns the probability of every object, its features, and which groups they belong to. It is also known as a probabilistic classifier. The Naive Bayes Algorithm comes under supervised learning and is mainly used to solve classification problems.\n",
    "\n",
    "* At here, base on content of email, it learns on probability of words.\n"
   ]
  },
  {
   "cell_type": "markdown",
   "metadata": {
    "button": false,
    "new_sheet": false,
    "run_control": {
     "read_only": false
    }
   },
   "source": [
    "#### Suppose that our data is comprised of green triangles and red circles.\n"
   ]
  },
  {
   "cell_type": "markdown",
   "metadata": {
    "button": false,
    "new_sheet": false,
    "run_control": {
     "read_only": false
    }
   },
   "source": [
    "Green triangles is importance email <br/>\n",
    "Red circles is spam email.\n",
    "\n",
    "Filter :  is importance email?"
   ]
  },
  {
   "cell_type": "markdown",
   "metadata": {
    "button": false,
    "new_sheet": false,
    "run_control": {
     "read_only": false
    }
   },
   "source": [
    "<img src=\"https://cf-courses-data.s3.us.cloud-object-storage.appdomain.cloud/IBMDeveloperSkillsNetwork-DS0103EN-SkillsNetwork/labs/Module%201/images/lab1_fig6_decision_tree_5.png\" width=\"400\">\n"
   ]
  },
  {
   "cell_type": "markdown",
   "metadata": {
    "button": false,
    "new_sheet": false,
    "run_control": {
     "read_only": false
    }
   },
   "source": [
    "We define 2 class: YES and NO.\n",
    "\n",
    "<b> Input </b>: content of email (list of words)\n",
    "<b> Output </b>: YES or NO"
   ]
  },
  {
   "cell_type": "markdown",
   "metadata": {},
   "source": [
    "### Bayes' theorem\n",
    "\n",
    "$$ P(A|B) = {P(B|A) . P(A) \\over P(B)} $$"
   ]
  },
  {
   "cell_type": "markdown",
   "metadata": {},
   "source": [
    "We will compare the two probability:\n",
    "\n",
    "$$ P(YES| <content-email>) = {P(<content-email> | YES) . P(YES) \\over P(<content-email>)} $$\n",
    "\n",
    "<br/>\n",
    "\n",
    "$$ P(NO| <content-email>) = {P(<content-email> | NO) . P(NO) \\over P(<content-email>)} $$"
   ]
  },
  {
   "cell_type": "markdown",
   "metadata": {},
   "source": [
    "### Example : \n",
    "\n",
    "Calculate P(YES| content-email) <br/>\n",
    "\n",
    "P( content-email | YES) = P (list of words | YES) = $$ P(w_1, w_2, w_3, ...w_n | YES)$$\n",
    "\n",
    "$$ = P(w_1 | YES) . P(w_2 | YES) . P(w_3 | YES) ... P(w_n | YES) $$"
   ]
  },
  {
   "cell_type": "markdown",
   "metadata": {},
   "source": [
    "P(w1 | YES) = Number (w1 in YES) / Number (w in YES)\n",
    "\n",
    "But if w1 is new world, not in train set => N (w1 in YES) = 0. To avoid this, we are going to use <b> Laplace smoothing </b>. i.e., we will add 1 to every count so it will not be zero\n",
    "\n",
    "\n",
    "P(w1 | YES) = ( N(w1 in YES) + 1 ) / ( N(w in YES) + Vocab <-number word-> )\n",
    "\n",
    "- And you remember: P(w1 | YES) + P(w2 | YES) + P(w3 | YES) + ... P(wn | YES) = 1"
   ]
  },
  {
   "cell_type": "markdown",
   "metadata": {
    "button": false,
    "new_sheet": false,
    "run_control": {
     "read_only": false
    }
   },
   "source": [
    "P(YES) + P(NO) = 1. \n",
    "\n",
    "P(YES) = Number YES / Total (YES + NO)"
   ]
  },
  {
   "cell_type": "markdown",
   "metadata": {},
   "source": [
    "Value of P(<-content-email->) greater then Zero. So when compare, we can skip it"
   ]
  },
  {
   "cell_type": "markdown",
   "metadata": {
    "button": false,
    "new_sheet": false,
    "run_control": {
     "read_only": false
    }
   },
   "source": [
    "### Thank you for watching this lab!\n",
    "\n",
    "This notebook was created by Quyen Pham. I hope you understand brief of Navie Bayes\n"
   ]
  },
  {
   "cell_type": "markdown",
   "metadata": {
    "button": false,
    "new_sheet": false,
    "run_control": {
     "read_only": false
    }
   },
   "source": [
    "## Author\n",
    "\n",
    "### Quyen Pham\n",
    "\n",
    "## Change Log\n",
    "\n",
    "| Date (YYYY-MM-DD) | Version | Changed By | Change Description                 |\n",
    "| ----------------- | ------- | ---------- | ---------------------------------- |\n",
    "| 2022-06-03        | 1.0     | Quyen Pham | Explain solution                   |\n"
   ]
  },
  {
   "cell_type": "code",
   "execution_count": null,
   "metadata": {},
   "outputs": [],
   "source": []
  }
 ],
 "metadata": {
  "kernelspec": {
   "display_name": "Python 3",
   "language": "python",
   "name": "python3"
  },
  "language_info": {
   "codemirror_mode": {
    "name": "ipython",
    "version": 3
   },
   "file_extension": ".py",
   "mimetype": "text/x-python",
   "name": "python",
   "nbconvert_exporter": "python",
   "pygments_lexer": "ipython3",
   "version": "3.8.5"
  }
 },
 "nbformat": 4,
 "nbformat_minor": 4
}
