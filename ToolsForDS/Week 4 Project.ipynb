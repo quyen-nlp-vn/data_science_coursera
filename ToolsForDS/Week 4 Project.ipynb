{
 "cells": [
  {
   "cell_type": "markdown",
   "metadata": {},
   "source": [
    "# Week 4 Course (ex2)"
   ]
  },
  {
   "cell_type": "markdown",
   "metadata": {},
   "source": [
    "### This is a sample project. This project introduces you to multiple data science tools (ex3)"
   ]
  },
  {
   "cell_type": "markdown",
   "metadata": {},
   "source": [
    "List common data science languages: (ex4)\n",
    "- Python\n",
    "- R\n",
    "- SQL\n",
    "- Scala\n",
    "- Java"
   ]
  },
  {
   "cell_type": "markdown",
   "metadata": {},
   "source": [
    "About data science libraries: (ex5)\n",
    "- In Python, you can use scientific computing libraries such as Pandas, NumPy, SciPy, and Matplotlib. For artificial intelligence, it has TensorFlow, PyTorch, Keras, and Scikit-learn. Python can also be used for Natural Language Processing (NLP) using the Natural Language Toolkit (NLTK)\n",
    "- In R, ggplot2 is a popular library for data visualization in R. You can also use libraries that enable you to interface with Keras and TensorFlow. R has been the de-facto standard for open source data science but it is now being superseded by Python.\n",
    "- In Scala, Spark Vegas is a Scala library for statistical data visualizations. With Vegas, you can work with data files as well as Spark DataFrames. For deep learning, you can use BigDL"
   ]
  },
  {
   "cell_type": "markdown",
   "metadata": {},
   "source": [
    "### Ex6: some table of Data Science tools\n",
    "\n",
    "| Data management    |                                                                                                                                                                       |\n",
    "|--------------------|-----------------------------------------------------------------------------------------------------------------------------------------------------------------------|\n",
    "| MySQL              | MySQL is an open-source relational database management system (RDBMS)                                                                                                 |\n",
    "| MongoDB            | MongoDB is a source-available cross-platform document-oriented database program. Classified as a NoSQL database program, MongoDB uses JSON-like documents             |\n",
    "| Apache CouchDB     | Apache CouchDB is an open-source document-oriented NoSQL database, implemented in Erlang. ... CouchDB uses multiple formats and protocols to store, transfer, and ... |\n",
    "| Apache Cassandra   | Cassandra is a free and open-source, distributed, wide-column store, NoSQL database management system designed to handle large amounts of data                        |\n",
    "| Hadoop File System | The Hadoop distributed file system (HDFS) is a distributed, scalable, and portable file system written in Java for the Hadoop framework.                              |\n",
    "| Elasticsearch      | Elasticsearch is a search engine based on the Lucene library. It provides a distributed, multitenant-capable full-text search engine                                  |\n",
    "\n",
    "\n",
    "<br>\n",
    "\n",
    "| Data integration and transformation tools |                                                                                                                                                                             |\n",
    "|-------------------------------------------|-----------------------------------------------------------------------------------------------------------------------------------------------------------------------------|\n",
    "| Apache AirFlow                            | Apache Airflow is an open-source workflow management platform for data engineering pipelines                                                                                |\n",
    "| KubeFlow                                  | which enables you to execute data science pipelines on top of Kubernetes                                                                                                    |\n",
    "| Apache Kafka                              | Apache Kafka is a distributed event store and stream-processing platform. It is an open-source system developed by the Apache Software Foundation written in Java and Scala |\n",
    "| Apache SparkSQL                           | which enables you to use ANSI SQL and scales up to compute clusters of 1000s of nodes                                                                                       |\n",
    "| NodeRED                                   | which also provides a visual editor. NodeRED consumes so little in resources that it even runs on small devices like a Raspberry Pi                                         |\n",
    "\n",
    "<br>\n",
    "\n",
    "| Data visualization tools |                                                                                                       |\n",
    "|--------------------------|-------------------------------------------------------------------------------------------------------|\n",
    "| Hue                      | which can create visualizations from SQL queries                                                      |\n",
    "| Kibana                   | a data exploration and visualization web application, is limited to Elasticsearch (the data provider) |\n",
    "| Apache Superset          | This is a data exploration and visualization web application.                                         |\n",
    "\n",
    "<br>\n",
    "\n",
    "| Model deployment    |                                                                                                                                                                                               |\n",
    "|---------------------|-----------------------------------------------------------------------------------------------------------------------------------------------------------------------------------------------|\n",
    "| Apache PredictionIO | which currently only supports Apache Spark ML models for deployment, but support for all sorts of other libraries is on the roadmap                                                           |\n",
    "| Seldon              | which is an interesting product since it supports nearly every framework, including TensorFlow, Apache SparkML, R, and scikit-learn. Seldon can run on top of Kubernetes and Redhat OpenShift |\n",
    "| MLeap               | deploy SparkML models                                                                                                                                                                         |\n",
    "| TensorFlow service  | TensorFlow can serve any of its models using the TensorFlow service                                                                                                                           |\n",
    "<br>\n",
    "\n",
    "| Model monitoring |                                                                                                                                                                         |\n",
    "|------------------|-------------------------------------------------------------------------------------------------------------------------------------------------------------------------|\n",
    "| ModelDB          | This is a machine model metadatabase where information about the models are stored and can be queried. It natively supports Apache Spark ML Pipelines and scikit-learn. |\n",
    "| Prometheus       | which is multi-purpose tool. It also widely used for machine learning model monitoring, although it’s not specifically made for this purpose                            |"
   ]
  },
  {
   "cell_type": "markdown",
   "metadata": {},
   "source": [
    "### Ex7\n",
    "\n",
    "An arithmetic expression is an expression built up using numbers, arithmetic operators (such as +, , -, / and $\\sqrt{}$ ) and parentheses, \"(\" and \")\".    Arithmetic expressions may also make use of exponents, for example, writing  $2^3$ as an abreviation for $((2x2)x2)$.\n",
    "\n",
    "An arithmetic expression in which the only operators are +,, - and exponentiation, is called a simple arithmetic expression. Here are some examples:\n",
    "- (3 + 4) -- the  sum of numbers is an arithmetic expression\n",
    "- (6x(3 + 4)),   6 (3 + 4)  -- by using parentheses we can indicate the order in which the operations are to be done.  In this example the parentheses indicate that the addition is to be done before the multiplication.\n",
    "- $(2^3 + 5)^2$ -- this is an abbreviation for the arithmetic expression $(2^3 + 5)x(2^3 + 5)$\n"
   ]
  },
  {
   "cell_type": "code",
   "execution_count": 5,
   "metadata": {},
   "outputs": [
    {
     "name": "stdout",
     "output_type": "stream",
     "text": [
      "37\n",
      "37\n"
     ]
    }
   ],
   "source": [
    "# ex8: multiply and add numbers\n",
    "x = 5\n",
    "y = 6\n",
    "z = 7\n",
    "print( x * y + z)\n",
    "print((5 * 6) + 7)"
   ]
  },
  {
   "cell_type": "code",
   "execution_count": 11,
   "metadata": {},
   "outputs": [
    {
     "name": "stdout",
     "output_type": "stream",
     "text": [
      "Please enter a number of minutes:\n",
      "31\n",
      "31 minutes equals 0.5166666666666667 hours\n"
     ]
    }
   ],
   "source": [
    "# ex9: convert minutes to hours\n",
    "minutes = input(\"Please enter a number of minutes:\\n\")\n",
    "minutes = int(minutes)\n",
    "hours = minutes / 60\n",
    "print(\"{} minutes equals {} hours\".format(minutes, hours))"
   ]
  },
  {
   "cell_type": "markdown",
   "metadata": {},
   "source": [
    "### Ex10: Objectives\n",
    "\n",
    "Exercise 2 - Create a markdown cell with the title of the notebook. (1 pt)\n",
    "\n",
    "Exercise 3 - Create a markdown cell for an introduction. (1 pt)\n",
    "\n",
    "Exercise 4 - Create a markdown cell to list data science languages. (3 pts)\n",
    "\n",
    "Exercise 5 - Create a markdown cell to list data science libraries. (3 pts)\n",
    "\n",
    "Exercise 6 - Create a markdown cell with a table of Data Science tools. (3 pts)\n",
    "\n",
    "Exercise 7 - Create a markdown cell introducing arithmetic expression examples. (1 pt)\n",
    "\n",
    "Exercise 8 - Create a code cell to multiply and add numbers.(2 pts)\n",
    "\n",
    "Exercise 9 - Create a code cell to convert minutes to hours. (2 pts)\n",
    "\n",
    "Exercise 10 -Insert a markdown cell to list Objectives. (3 pts)\n",
    "\n",
    "Exercise 11 - Create a markdown cell to indicate the Author’s name. (2 pts)\n",
    "\n",
    "Exercise 12 - Share your notebook through GitHub (3 pts)\n",
    "\n",
    "Exercise 13 - Take a screenshot of the first page of the notebook. (1 pt)"
   ]
  },
  {
   "cell_type": "markdown",
   "metadata": {},
   "source": [
    "### Author: Quyen Pham"
   ]
  }
 ],
 "metadata": {
  "kernelspec": {
   "display_name": "Python 3",
   "language": "python",
   "name": "python3"
  },
  "language_info": {
   "codemirror_mode": {
    "name": "ipython",
    "version": 3
   },
   "file_extension": ".py",
   "mimetype": "text/x-python",
   "name": "python",
   "nbconvert_exporter": "python",
   "pygments_lexer": "ipython3",
   "version": "3.8.5"
  }
 },
 "nbformat": 4,
 "nbformat_minor": 4
}
